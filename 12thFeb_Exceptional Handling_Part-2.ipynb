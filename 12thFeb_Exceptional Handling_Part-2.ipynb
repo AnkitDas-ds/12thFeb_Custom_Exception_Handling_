{
 "cells": [
  {
   "cell_type": "code",
   "execution_count": 1,
   "id": "9a181a34",
   "metadata": {},
   "outputs": [],
   "source": [
    "#how to raise custom situation cases "
   ]
  },
  {
   "cell_type": "code",
   "execution_count": 1,
   "id": "b9edb63a",
   "metadata": {},
   "outputs": [],
   "source": [
    "#CUSTOM EXCEPTION HANDLING"
   ]
  },
  {
   "cell_type": "code",
   "execution_count": 2,
   "id": "9c7a2053",
   "metadata": {},
   "outputs": [
    {
     "name": "stdout",
     "output_type": "stream",
     "text": [
      "Enter your age45\n"
     ]
    }
   ],
   "source": [
    "age=int(input(\"Enter your age\"))"
   ]
  },
  {
   "cell_type": "code",
   "execution_count": 3,
   "id": "96246a8a",
   "metadata": {},
   "outputs": [],
   "source": [
    "#now age cannot be negative but integer accepts everything ?\n",
    "#what to do now ?"
   ]
  },
  {
   "cell_type": "code",
   "execution_count": 17,
   "id": "dc552440",
   "metadata": {},
   "outputs": [],
   "source": [
    "class validate_age(Exception): #we are inheriting the Exception class here \n",
    "    \n",
    "    def __init__(self,msg):\n",
    "        self.msg=msg\n"
   ]
  },
  {
   "cell_type": "code",
   "execution_count": 18,
   "id": "92756550",
   "metadata": {},
   "outputs": [],
   "source": [
    "def validateage(age):\n",
    "    if age < 0:\n",
    "        raise validate_age(\"Entered age is negative \")\n",
    "    elif age > 200 :\n",
    "        raise validate_age(\"Entered age is very very high\")\n",
    "    else :\n",
    "        print(\"Age is valid OK! \")"
   ]
  },
  {
   "cell_type": "code",
   "execution_count": 19,
   "id": "f02e61ff",
   "metadata": {},
   "outputs": [
    {
     "name": "stdout",
     "output_type": "stream",
     "text": [
      "Enter you age-235\n",
      "Entered age is negative \n"
     ]
    }
   ],
   "source": [
    "try:\n",
    "    age=int(input(\"Enter you age\"))\n",
    "    validateage(age)\n",
    "except validate_age as e:\n",
    "    print(e)\n"
   ]
  },
  {
   "cell_type": "code",
   "execution_count": null,
   "id": "dcc1e40c",
   "metadata": {},
   "outputs": [],
   "source": []
  },
  {
   "cell_type": "code",
   "execution_count": null,
   "id": "028e3a87",
   "metadata": {},
   "outputs": [],
   "source": []
  }
 ],
 "metadata": {
  "kernelspec": {
   "display_name": "Python 3 (ipykernel)",
   "language": "python",
   "name": "python3"
  },
  "language_info": {
   "codemirror_mode": {
    "name": "ipython",
    "version": 3
   },
   "file_extension": ".py",
   "mimetype": "text/x-python",
   "name": "python",
   "nbconvert_exporter": "python",
   "pygments_lexer": "ipython3",
   "version": "3.11.5"
  }
 },
 "nbformat": 4,
 "nbformat_minor": 5
}
